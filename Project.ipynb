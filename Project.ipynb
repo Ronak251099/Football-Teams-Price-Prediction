{
 "cells": [
  {
   "cell_type": "markdown",
   "metadata": {},
   "source": [
    "Importing the Required Packages"
   ]
  },
  {
   "cell_type": "code",
   "execution_count": 1,
   "metadata": {},
   "outputs": [],
   "source": [
    "import numpy as np\n",
    "import pandas as pd"
   ]
  },
  {
   "cell_type": "markdown",
   "metadata": {},
   "source": [
    "Loading the dataset into the notebooks"
   ]
  },
  {
   "cell_type": "code",
   "execution_count": 2,
   "metadata": {},
   "outputs": [
    {
     "data": {
      "text/html": [
       "<div>\n",
       "<style scoped>\n",
       "    .dataframe tbody tr th:only-of-type {\n",
       "        vertical-align: middle;\n",
       "    }\n",
       "\n",
       "    .dataframe tbody tr th {\n",
       "        vertical-align: top;\n",
       "    }\n",
       "\n",
       "    .dataframe thead th {\n",
       "        text-align: right;\n",
       "    }\n",
       "</style>\n",
       "<table border=\"1\" class=\"dataframe\">\n",
       "  <thead>\n",
       "    <tr style=\"text-align: right;\">\n",
       "      <th></th>\n",
       "      <th>AveragePlayerAge</th>\n",
       "      <th>TotalGoalsLastSeason</th>\n",
       "      <th>MatchesWonLastSeason</th>\n",
       "      <th>MatchesDrawnLastSeason</th>\n",
       "      <th>MatchesLostLastSeason</th>\n",
       "      <th>TotalGoalsConcededLastSeason</th>\n",
       "      <th>TotalRevenueLastSeason</th>\n",
       "      <th>StadiumCapacity</th>\n",
       "      <th>AverageAttendance</th>\n",
       "      <th>TransferSpendingLastSeason</th>\n",
       "      <th>...</th>\n",
       "      <th>Country</th>\n",
       "      <th>Manager</th>\n",
       "      <th>TeamFormation</th>\n",
       "      <th>PlayingStyle</th>\n",
       "      <th>HomeCity</th>\n",
       "      <th>StadiumType</th>\n",
       "      <th>MainSponsor</th>\n",
       "      <th>KitManufacturer</th>\n",
       "      <th>OwnershipType</th>\n",
       "      <th>Price</th>\n",
       "    </tr>\n",
       "  </thead>\n",
       "  <tbody>\n",
       "    <tr>\n",
       "      <th>0</th>\n",
       "      <td>24.367182</td>\n",
       "      <td>28</td>\n",
       "      <td>16</td>\n",
       "      <td>36</td>\n",
       "      <td>20</td>\n",
       "      <td>51</td>\n",
       "      <td>337.552001</td>\n",
       "      <td>55766</td>\n",
       "      <td>5229.742720</td>\n",
       "      <td>177.592126</td>\n",
       "      <td>...</td>\n",
       "      <td>England</td>\n",
       "      <td>Manager B</td>\n",
       "      <td>4-2-3-1</td>\n",
       "      <td>Counter-Attack</td>\n",
       "      <td>City C</td>\n",
       "      <td>Multipurpose</td>\n",
       "      <td>Sponsor B</td>\n",
       "      <td>Manufacturer B</td>\n",
       "      <td>Private</td>\n",
       "      <td>4,375,181,628</td>\n",
       "    </tr>\n",
       "    <tr>\n",
       "      <th>1</th>\n",
       "      <td>34.162143</td>\n",
       "      <td>89</td>\n",
       "      <td>12</td>\n",
       "      <td>35</td>\n",
       "      <td>31</td>\n",
       "      <td>84</td>\n",
       "      <td>264.850402</td>\n",
       "      <td>15307</td>\n",
       "      <td>46172.738882</td>\n",
       "      <td>125.441952</td>\n",
       "      <td>...</td>\n",
       "      <td>Spain</td>\n",
       "      <td>Manager C</td>\n",
       "      <td>3-4-3</td>\n",
       "      <td>Defensive</td>\n",
       "      <td>City C</td>\n",
       "      <td>Multipurpose</td>\n",
       "      <td>Sponsor A</td>\n",
       "      <td>Manufacturer B</td>\n",
       "      <td>Consortium</td>\n",
       "      <td>859,750,388</td>\n",
       "    </tr>\n",
       "    <tr>\n",
       "      <th>2</th>\n",
       "      <td>30.443897</td>\n",
       "      <td>43</td>\n",
       "      <td>3</td>\n",
       "      <td>9</td>\n",
       "      <td>28</td>\n",
       "      <td>72</td>\n",
       "      <td>363.423205</td>\n",
       "      <td>77050</td>\n",
       "      <td>78334.254989</td>\n",
       "      <td>43.776137</td>\n",
       "      <td>...</td>\n",
       "      <td>Spain</td>\n",
       "      <td>Manager C</td>\n",
       "      <td>3-5-2</td>\n",
       "      <td>Attacking</td>\n",
       "      <td>City D</td>\n",
       "      <td>Classic</td>\n",
       "      <td>Sponsor A</td>\n",
       "      <td>Manufacturer C</td>\n",
       "      <td>Consortium</td>\n",
       "      <td>2,168,913,729</td>\n",
       "    </tr>\n",
       "    <tr>\n",
       "      <th>3</th>\n",
       "      <td>28.177194</td>\n",
       "      <td>84</td>\n",
       "      <td>19</td>\n",
       "      <td>19</td>\n",
       "      <td>34</td>\n",
       "      <td>22</td>\n",
       "      <td>296.719959</td>\n",
       "      <td>61440</td>\n",
       "      <td>60080.423819</td>\n",
       "      <td>183.936395</td>\n",
       "      <td>...</td>\n",
       "      <td>Italy</td>\n",
       "      <td>Manager C</td>\n",
       "      <td>4-3-3</td>\n",
       "      <td>Counter-Attack</td>\n",
       "      <td>City C</td>\n",
       "      <td>Classic</td>\n",
       "      <td>Sponsor D</td>\n",
       "      <td>Manufacturer B</td>\n",
       "      <td>Consortium</td>\n",
       "      <td>1,426,481,894</td>\n",
       "    </tr>\n",
       "    <tr>\n",
       "      <th>4</th>\n",
       "      <td>20.652317</td>\n",
       "      <td>36</td>\n",
       "      <td>36</td>\n",
       "      <td>10</td>\n",
       "      <td>9</td>\n",
       "      <td>80</td>\n",
       "      <td>480.928532</td>\n",
       "      <td>78563</td>\n",
       "      <td>10940.950513</td>\n",
       "      <td>14.881518</td>\n",
       "      <td>...</td>\n",
       "      <td>France</td>\n",
       "      <td>Manager D</td>\n",
       "      <td>4-2-3-1</td>\n",
       "      <td>Counter-Attack</td>\n",
       "      <td>City D</td>\n",
       "      <td>Historical</td>\n",
       "      <td>Sponsor C</td>\n",
       "      <td>Manufacturer B</td>\n",
       "      <td>Consortium</td>\n",
       "      <td>4,038,110,631</td>\n",
       "    </tr>\n",
       "  </tbody>\n",
       "</table>\n",
       "<p>5 rows × 26 columns</p>\n",
       "</div>"
      ],
      "text/plain": [
       "   AveragePlayerAge  TotalGoalsLastSeason  MatchesWonLastSeason  \\\n",
       "0         24.367182                    28                    16   \n",
       "1         34.162143                    89                    12   \n",
       "2         30.443897                    43                     3   \n",
       "3         28.177194                    84                    19   \n",
       "4         20.652317                    36                    36   \n",
       "\n",
       "   MatchesDrawnLastSeason  MatchesLostLastSeason  \\\n",
       "0                      36                     20   \n",
       "1                      35                     31   \n",
       "2                       9                     28   \n",
       "3                      19                     34   \n",
       "4                      10                      9   \n",
       "\n",
       "   TotalGoalsConcededLastSeason  TotalRevenueLastSeason  StadiumCapacity  \\\n",
       "0                            51              337.552001            55766   \n",
       "1                            84              264.850402            15307   \n",
       "2                            72              363.423205            77050   \n",
       "3                            22              296.719959            61440   \n",
       "4                            80              480.928532            78563   \n",
       "\n",
       "   AverageAttendance  TransferSpendingLastSeason  ...  Country    Manager  \\\n",
       "0        5229.742720                  177.592126  ...  England  Manager B   \n",
       "1       46172.738882                  125.441952  ...    Spain  Manager C   \n",
       "2       78334.254989                   43.776137  ...    Spain  Manager C   \n",
       "3       60080.423819                  183.936395  ...    Italy  Manager C   \n",
       "4       10940.950513                   14.881518  ...   France  Manager D   \n",
       "\n",
       "   TeamFormation    PlayingStyle  HomeCity   StadiumType MainSponsor  \\\n",
       "0        4-2-3-1  Counter-Attack    City C  Multipurpose   Sponsor B   \n",
       "1          3-4-3       Defensive    City C  Multipurpose   Sponsor A   \n",
       "2          3-5-2       Attacking    City D       Classic   Sponsor A   \n",
       "3          4-3-3  Counter-Attack    City C       Classic   Sponsor D   \n",
       "4        4-2-3-1  Counter-Attack    City D    Historical   Sponsor C   \n",
       "\n",
       "  KitManufacturer OwnershipType          Price  \n",
       "0  Manufacturer B       Private  4,375,181,628  \n",
       "1  Manufacturer B    Consortium    859,750,388  \n",
       "2  Manufacturer C    Consortium  2,168,913,729  \n",
       "3  Manufacturer B    Consortium  1,426,481,894  \n",
       "4  Manufacturer B    Consortium  4,038,110,631  \n",
       "\n",
       "[5 rows x 26 columns]"
      ]
     },
     "execution_count": 2,
     "metadata": {},
     "output_type": "execute_result"
    }
   ],
   "source": [
    "# Loading the dataset\n",
    "dataset = pd.read_csv(\"Football_teams_price_data.csv\")\n",
    "\n",
    "# Printing the top 5 rows of the dataset\n",
    "dataset.head()"
   ]
  },
  {
   "cell_type": "markdown",
   "metadata": {},
   "source": [
    "# Data Cleaning and Preprocessing"
   ]
  },
  {
   "cell_type": "markdown",
   "metadata": {},
   "source": [
    "1. Identification and Handling of Missing values"
   ]
  },
  {
   "cell_type": "code",
   "execution_count": 3,
   "metadata": {},
   "outputs": [
    {
     "name": "stdout",
     "output_type": "stream",
     "text": [
      "Number of missing values in the column AveragePlayerAge is 0\n",
      "Number of missing values in the column TotalGoalsLastSeason is 0\n",
      "Number of missing values in the column MatchesWonLastSeason is 0\n",
      "Number of missing values in the column MatchesDrawnLastSeason is 0\n",
      "Number of missing values in the column MatchesLostLastSeason is 0\n",
      "Number of missing values in the column TotalGoalsConcededLastSeason is 0\n",
      "Number of missing values in the column TotalRevenueLastSeason is 0\n",
      "Number of missing values in the column StadiumCapacity is 0\n",
      "Number of missing values in the column AverageAttendance is 0\n",
      "Number of missing values in the column TransferSpendingLastSeason is 0\n",
      "Number of missing values in the column TransferIncomeLastSeason is 0\n",
      "Number of missing values in the column NumberOfTrophies is 0\n",
      "Number of missing values in the column MarketValueOfSquad is 0\n",
      "Number of missing values in the column AveragePlayerMarketValue is 0\n",
      "Number of missing values in the column YouthAcademyRating is 0\n",
      "Number of missing values in the column League is 0\n",
      "Number of missing values in the column Country is 0\n",
      "Number of missing values in the column Manager is 0\n",
      "Number of missing values in the column TeamFormation is 0\n",
      "Number of missing values in the column PlayingStyle is 0\n",
      "Number of missing values in the column HomeCity is 0\n",
      "Number of missing values in the column StadiumType is 0\n",
      "Number of missing values in the column MainSponsor is 0\n",
      "Number of missing values in the column KitManufacturer is 0\n",
      "Number of missing values in the column OwnershipType is 0\n",
      "Number of missing values in the column Price is 0\n"
     ]
    }
   ],
   "source": [
    "# Number of missing values in each column\n",
    "for col in dataset.columns:\n",
    "    print(f\"Number of missing values in the column {col} is {dataset[col].isnull().sum()}\")"
   ]
  },
  {
   "cell_type": "markdown",
   "metadata": {},
   "source": [
    "There are no missing value, So there's no need to do any more thing."
   ]
  },
  {
   "cell_type": "markdown",
   "metadata": {},
   "source": [
    "2. Error Correction and Inconsistencies"
   ]
  },
  {
   "cell_type": "code",
   "execution_count": 4,
   "metadata": {},
   "outputs": [
    {
     "name": "stdout",
     "output_type": "stream",
     "text": [
      "Name of the columns: ['AveragePlayerAge' 'TotalGoalsLastSeason' 'MatchesWonLastSeason'\n",
      " 'MatchesDrawnLastSeason' 'MatchesLostLastSeason'\n",
      " 'TotalGoalsConcededLastSeason' 'TotalRevenueLastSeason' 'StadiumCapacity'\n",
      " 'AverageAttendance' 'TransferSpendingLastSeason'\n",
      " 'TransferIncomeLastSeason' 'NumberOfTrophies' 'MarketValueOfSquad'\n",
      " 'AveragePlayerMarketValue' 'YouthAcademyRating' 'League' 'Country'\n",
      " 'Manager' 'TeamFormation' 'PlayingStyle' 'HomeCity' 'StadiumType'\n",
      " 'MainSponsor' 'KitManufacturer' 'OwnershipType' 'Price']\n"
     ]
    }
   ],
   "source": [
    "print(f\"Name of the columns: {dataset.columns.values}\")"
   ]
  },
  {
   "cell_type": "markdown",
   "metadata": {},
   "source": [
    "It's hard to read the names of the columns, thus we will be changing the names to make them more readable."
   ]
  },
  {
   "cell_type": "code",
   "execution_count": 5,
   "metadata": {},
   "outputs": [],
   "source": [
    "dataset.rename(columns = {\n",
    "    \"AveragePlayerAge\": \"Average_Player_Age\",\n",
    "    \"TotalGoalsLastSeason\": \"Total_Goals_Last_Season\",\n",
    "    \"MatchesWonLastSeason\": \"Matches_Won_Last_Season\",\n",
    "    \"MatchesDrawnLastSeason\": \"Matches_Drawn_Last_Season\",\n",
    "    \"MatchesLostLastSeason\": \"Matches_Lost_Last_Season\",\n",
    "    \"TotalGoalsConcededLastSeason\": \"Total_Goals_Conceded_Last_Season\",\n",
    "    \"TotalRevenueLastSeason\": \"Total_Revenue_Last_Season\",\n",
    "    \"StadiumCapacity\": \"Stadium_Capacity\",\n",
    "    \"AverageAttendance\": \"Average_Attendance\",\n",
    "    \"TransferSpendingLastSeason\": \"Transfer_Spending_Last_Season\",\n",
    "    \"TransferIncomeLastSeason\": \"Transfer_Income_Last_Season\",\n",
    "    \"NumberOfTrophies\": \"Number_Of_Trophies\",\n",
    "    \"MarketValueOfSquad\": \"Market_Value_Of_Squad\",\n",
    "    \"AveragePlayerMarketValue\": \"Average_Player_Market_Value\",\n",
    "    \"YouthAcademyRating\": \"Youth_Academy_Rating\",\n",
    "    \"TeamFormation\": \"Team_Formation\",\n",
    "    \"PlayingStyle\": \"Playing_Style\",\n",
    "    \"HomeCity\": \"Home_City\",\n",
    "    \"StadiumType\": \"Stadium_Type\",\n",
    "    \"MainSponsor\": \"Main_Sponsor\",\n",
    "    \"KitManufacturer\": \"Kit_Manufacturer\",\n",
    "    \"OwnershipType\": \"Ownership_Type\"\n",
    "}, inplace = True)"
   ]
  },
  {
   "cell_type": "code",
   "execution_count": 6,
   "metadata": {},
   "outputs": [
    {
     "name": "stdout",
     "output_type": "stream",
     "text": [
      "Name of the columns: ['Average_Player_Age' 'Total_Goals_Last_Season' 'Matches_Won_Last_Season'\n",
      " 'Matches_Drawn_Last_Season' 'Matches_Lost_Last_Season'\n",
      " 'Total_Goals_Conceded_Last_Season' 'Total_Revenue_Last_Season'\n",
      " 'Stadium_Capacity' 'Average_Attendance' 'Transfer_Spending_Last_Season'\n",
      " 'Transfer_Income_Last_Season' 'Number_Of_Trophies'\n",
      " 'Market_Value_Of_Squad' 'Average_Player_Market_Value'\n",
      " 'Youth_Academy_Rating' 'League' 'Country' 'Manager' 'Team_Formation'\n",
      " 'Playing_Style' 'Home_City' 'Stadium_Type' 'Main_Sponsor'\n",
      " 'Kit_Manufacturer' 'Ownership_Type' 'Price']\n"
     ]
    }
   ],
   "source": [
    "print(f\"Name of the columns: {dataset.columns.values}\")"
   ]
  }
 ],
 "metadata": {
  "kernelspec": {
   "display_name": "Python 3",
   "language": "python",
   "name": "python3"
  },
  "language_info": {
   "codemirror_mode": {
    "name": "ipython",
    "version": 3
   },
   "file_extension": ".py",
   "mimetype": "text/x-python",
   "name": "python",
   "nbconvert_exporter": "python",
   "pygments_lexer": "ipython3",
   "version": "3.11.8"
  }
 },
 "nbformat": 4,
 "nbformat_minor": 2
}
